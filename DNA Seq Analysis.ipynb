{
 "cells": [
  {
   "cell_type": "markdown",
   "id": "a1bcacf0-8b80-4c50-b07b-6dde0ccd4442",
   "metadata": {},
   "source": [
    "<h1><center>Computer Laboratory II : BioInformatics Assignment - 1</center></h1>\n",
    "<h2 align=\"right\">Sanskruti Narwadkar- 42541</h2> "
   ]
  },
  {
   "cell_type": "markdown",
   "id": "d1be5202-1092-4340-899e-5e4620b5643e",
   "metadata": {},
   "source": [
    "## ------------------------------------------------------------------------------------------------------------"
   ]
  },
  {
   "cell_type": "markdown",
   "id": "3a68554b-4fe6-411c-9859-b3c19030a3b3",
   "metadata": {},
   "source": [
    "### Assignment 1 : DNA Sequence Analysis. \n",
    "Task : Analyze a given DNA sequence and perform basic sequence \n",
    "manipulation, including finding motifs, calculating GC content, and identifying coding regions\n",
    "\n",
    "Deliverables : A \n",
    "report summarizing the analysis results and any insights gained from the sequence."
   ]
  },
  {
   "cell_type": "markdown",
   "id": "7a4d34b4-d4c9-4dfa-8df3-98efcd49be23",
   "metadata": {},
   "source": [
    "## ------------------------------------------------------------------------------------------------------------"
   ]
  },
  {
   "cell_type": "markdown",
   "id": "d93051bf-13df-4c47-9b0f-46dbb8ac957a",
   "metadata": {},
   "source": [
    "#### Importing Libraries"
   ]
  },
  {
   "cell_type": "code",
   "execution_count": 2,
   "id": "a9832801",
   "metadata": {},
   "outputs": [
    {
     "name": "stdout",
     "output_type": "stream",
     "text": [
      "Collecting biopython\n",
      "  Downloading biopython-1.84-cp311-cp311-win_amd64.whl.metadata (13 kB)\n",
      "Requirement already satisfied: numpy in c:\\users\\sanskruti\\anaconda3\\lib\\site-packages (from biopython) (1.26.4)\n",
      "Downloading biopython-1.84-cp311-cp311-win_amd64.whl (2.8 MB)\n",
      "   ---------------------------------------- 0.0/2.8 MB ? eta -:--:--\n",
      "    --------------------------------------- 0.0/2.8 MB 991.0 kB/s eta 0:00:03\n",
      "    --------------------------------------- 0.1/2.8 MB 525.1 kB/s eta 0:00:06\n",
      "   - -------------------------------------- 0.1/2.8 MB 737.3 kB/s eta 0:00:04\n",
      "   - -------------------------------------- 0.1/2.8 MB 718.6 kB/s eta 0:00:04\n",
      "   - -------------------------------------- 0.1/2.8 MB 718.6 kB/s eta 0:00:04\n",
      "   - -------------------------------------- 0.1/2.8 MB 718.6 kB/s eta 0:00:04\n",
      "   -- ------------------------------------- 0.2/2.8 MB 510.2 kB/s eta 0:00:06\n",
      "   -- ------------------------------------- 0.2/2.8 MB 468.3 kB/s eta 0:00:06\n",
      "   -- ------------------------------------- 0.2/2.8 MB 468.3 kB/s eta 0:00:06\n",
      "   -- ------------------------------------- 0.2/2.8 MB 398.4 kB/s eta 0:00:07\n",
      "   -- ------------------------------------- 0.2/2.8 MB 398.4 kB/s eta 0:00:07\n",
      "   -- ------------------------------------- 0.2/2.8 MB 398.4 kB/s eta 0:00:07\n",
      "   -- ------------------------------------- 0.2/2.8 MB 398.4 kB/s eta 0:00:07\n",
      "   ---- ----------------------------------- 0.3/2.8 MB 480.0 kB/s eta 0:00:06\n",
      "   ---- ----------------------------------- 0.3/2.8 MB 473.1 kB/s eta 0:00:06\n",
      "   ----- ---------------------------------- 0.4/2.8 MB 499.2 kB/s eta 0:00:05\n",
      "   ----- ---------------------------------- 0.4/2.8 MB 508.7 kB/s eta 0:00:05\n",
      "   ------ --------------------------------- 0.4/2.8 MB 498.0 kB/s eta 0:00:05\n",
      "   ------ --------------------------------- 0.5/2.8 MB 514.9 kB/s eta 0:00:05\n",
      "   ------- -------------------------------- 0.5/2.8 MB 522.6 kB/s eta 0:00:05\n",
      "   ------- -------------------------------- 0.5/2.8 MB 522.6 kB/s eta 0:00:05\n",
      "   ------- -------------------------------- 0.5/2.8 MB 524.6 kB/s eta 0:00:05\n",
      "   -------- ------------------------------- 0.6/2.8 MB 530.3 kB/s eta 0:00:05\n",
      "   -------- ------------------------------- 0.6/2.8 MB 530.3 kB/s eta 0:00:05\n",
      "   -------- ------------------------------- 0.6/2.8 MB 531.5 kB/s eta 0:00:05\n",
      "   --------- ------------------------------ 0.7/2.8 MB 536.3 kB/s eta 0:00:04\n",
      "   --------- ------------------------------ 0.7/2.8 MB 532.5 kB/s eta 0:00:04\n",
      "   --------- ------------------------------ 0.7/2.8 MB 535.6 kB/s eta 0:00:04\n",
      "   ---------- ----------------------------- 0.7/2.8 MB 524.3 kB/s eta 0:00:04\n",
      "   ---------- ----------------------------- 0.7/2.8 MB 515.7 kB/s eta 0:00:05\n",
      "   ---------- ----------------------------- 0.8/2.8 MB 520.2 kB/s eta 0:00:04\n",
      "   ----------- ---------------------------- 0.8/2.8 MB 530.1 kB/s eta 0:00:04\n",
      "   ------------ --------------------------- 0.8/2.8 MB 541.8 kB/s eta 0:00:04\n",
      "   ------------ --------------------------- 0.9/2.8 MB 544.1 kB/s eta 0:00:04\n",
      "   ------------ --------------------------- 0.9/2.8 MB 552.8 kB/s eta 0:00:04\n",
      "   ------------- -------------------------- 0.9/2.8 MB 545.4 kB/s eta 0:00:04\n",
      "   ------------- -------------------------- 0.9/2.8 MB 542.4 kB/s eta 0:00:04\n",
      "   ------------- -------------------------- 1.0/2.8 MB 545.4 kB/s eta 0:00:04\n",
      "   -------------- ------------------------- 1.0/2.8 MB 553.1 kB/s eta 0:00:04\n",
      "   -------------- ------------------------- 1.0/2.8 MB 553.1 kB/s eta 0:00:04\n",
      "   -------------- ------------------------- 1.0/2.8 MB 540.7 kB/s eta 0:00:04\n",
      "   --------------- ------------------------ 1.1/2.8 MB 543.7 kB/s eta 0:00:04\n",
      "   --------------- ------------------------ 1.1/2.8 MB 540.1 kB/s eta 0:00:04\n",
      "   --------------- ------------------------ 1.1/2.8 MB 540.1 kB/s eta 0:00:04\n",
      "   --------------- ------------------------ 1.1/2.8 MB 540.1 kB/s eta 0:00:04\n",
      "   --------------- ------------------------ 1.1/2.8 MB 540.1 kB/s eta 0:00:04\n",
      "   --------------- ------------------------ 1.1/2.8 MB 540.1 kB/s eta 0:00:04\n",
      "   --------------- ------------------------ 1.1/2.8 MB 540.1 kB/s eta 0:00:04\n",
      "   --------------- ------------------------ 1.1/2.8 MB 540.1 kB/s eta 0:00:04\n",
      "   --------------- ------------------------ 1.1/2.8 MB 540.1 kB/s eta 0:00:04\n",
      "   --------------- ------------------------ 1.1/2.8 MB 540.1 kB/s eta 0:00:04\n",
      "   ----------------- ---------------------- 1.2/2.8 MB 493.7 kB/s eta 0:00:04\n",
      "   ----------------- ---------------------- 1.2/2.8 MB 499.1 kB/s eta 0:00:04\n",
      "   ----------------- ---------------------- 1.2/2.8 MB 499.1 kB/s eta 0:00:04\n",
      "   ----------------- ---------------------- 1.2/2.8 MB 499.1 kB/s eta 0:00:04\n",
      "   ----------------- ---------------------- 1.2/2.8 MB 499.1 kB/s eta 0:00:04\n",
      "   ----------------- ---------------------- 1.2/2.8 MB 499.1 kB/s eta 0:00:04\n",
      "   ----------------- ---------------------- 1.2/2.8 MB 499.1 kB/s eta 0:00:04\n",
      "   ----------------- ---------------------- 1.2/2.8 MB 499.1 kB/s eta 0:00:04\n",
      "   ----------------- ---------------------- 1.2/2.8 MB 499.1 kB/s eta 0:00:04\n",
      "   ----------------- ---------------------- 1.2/2.8 MB 499.1 kB/s eta 0:00:04\n",
      "   ------------------- -------------------- 1.3/2.8 MB 457.1 kB/s eta 0:00:04\n",
      "   ------------------- -------------------- 1.3/2.8 MB 457.1 kB/s eta 0:00:04\n",
      "   ------------------- -------------------- 1.3/2.8 MB 457.1 kB/s eta 0:00:04\n",
      "   ------------------- -------------------- 1.3/2.8 MB 457.1 kB/s eta 0:00:04\n",
      "   --------------------- ------------------ 1.5/2.8 MB 475.7 kB/s eta 0:00:03\n",
      "   --------------------- ------------------ 1.5/2.8 MB 475.1 kB/s eta 0:00:03\n",
      "   --------------------- ------------------ 1.5/2.8 MB 479.4 kB/s eta 0:00:03\n",
      "   --------------------- ------------------ 1.5/2.8 MB 475.5 kB/s eta 0:00:03\n",
      "   ---------------------- ----------------- 1.6/2.8 MB 479.9 kB/s eta 0:00:03\n",
      "   ---------------------- ----------------- 1.6/2.8 MB 479.9 kB/s eta 0:00:03\n",
      "   ---------------------- ----------------- 1.6/2.8 MB 479.9 kB/s eta 0:00:03\n",
      "   ---------------------- ----------------- 1.6/2.8 MB 479.9 kB/s eta 0:00:03\n",
      "   ---------------------- ----------------- 1.6/2.8 MB 464.0 kB/s eta 0:00:03\n",
      "   ---------------------- ----------------- 1.6/2.8 MB 464.0 kB/s eta 0:00:03\n",
      "   ---------------------- ----------------- 1.6/2.8 MB 464.0 kB/s eta 0:00:03\n",
      "   ---------------------- ----------------- 1.6/2.8 MB 464.0 kB/s eta 0:00:03\n",
      "   ---------------------- ----------------- 1.6/2.8 MB 464.0 kB/s eta 0:00:03\n",
      "   ---------------------- ----------------- 1.6/2.8 MB 464.0 kB/s eta 0:00:03\n",
      "   ------------------------ --------------- 1.7/2.8 MB 457.2 kB/s eta 0:00:03\n",
      "   ------------------------ --------------- 1.7/2.8 MB 455.9 kB/s eta 0:00:03\n",
      "   ------------------------- -------------- 1.8/2.8 MB 458.3 kB/s eta 0:00:03\n",
      "   ------------------------- -------------- 1.8/2.8 MB 459.8 kB/s eta 0:00:03\n",
      "   -------------------------- ------------- 1.8/2.8 MB 462.2 kB/s eta 0:00:03\n",
      "   -------------------------- ------------- 1.9/2.8 MB 464.5 kB/s eta 0:00:03\n",
      "   --------------------------- ------------ 1.9/2.8 MB 471.8 kB/s eta 0:00:02\n",
      "   --------------------------- ------------ 1.9/2.8 MB 475.8 kB/s eta 0:00:02\n",
      "   ---------------------------- ----------- 2.0/2.8 MB 476.0 kB/s eta 0:00:02\n",
      "   ---------------------------- ----------- 2.0/2.8 MB 480.5 kB/s eta 0:00:02\n",
      "   ----------------------------- ---------- 2.0/2.8 MB 482.4 kB/s eta 0:00:02\n",
      "   ----------------------------- ---------- 2.1/2.8 MB 484.3 kB/s eta 0:00:02\n",
      "   ----------------------------- ---------- 2.1/2.8 MB 485.6 kB/s eta 0:00:02\n",
      "   ------------------------------ --------- 2.1/2.8 MB 487.4 kB/s eta 0:00:02\n",
      "   ------------------------------ --------- 2.2/2.8 MB 487.5 kB/s eta 0:00:02\n",
      "   ------------------------------- -------- 2.2/2.8 MB 487.0 kB/s eta 0:00:02\n",
      "   ------------------------------- -------- 2.2/2.8 MB 491.0 kB/s eta 0:00:02\n",
      "   ------------------------------- -------- 2.2/2.8 MB 491.0 kB/s eta 0:00:02\n",
      "   -------------------------------- ------- 2.3/2.8 MB 491.6 kB/s eta 0:00:02\n",
      "   -------------------------------- ------- 2.3/2.8 MB 488.8 kB/s eta 0:00:02\n",
      "   --------------------------------- ------ 2.3/2.8 MB 493.3 kB/s eta 0:00:01\n",
      "   --------------------------------- ------ 2.3/2.8 MB 494.9 kB/s eta 0:00:01\n",
      "   --------------------------------- ------ 2.4/2.8 MB 497.5 kB/s eta 0:00:01\n",
      "   ---------------------------------- ----- 2.4/2.8 MB 495.8 kB/s eta 0:00:01\n",
      "   ---------------------------------- ----- 2.4/2.8 MB 496.9 kB/s eta 0:00:01\n",
      "   ---------------------------------- ----- 2.4/2.8 MB 495.7 kB/s eta 0:00:01\n",
      "   ----------------------------------- ---- 2.5/2.8 MB 495.7 kB/s eta 0:00:01\n",
      "   ----------------------------------- ---- 2.5/2.8 MB 497.7 kB/s eta 0:00:01\n",
      "   ----------------------------------- ---- 2.5/2.8 MB 496.6 kB/s eta 0:00:01\n",
      "   ------------------------------------ --- 2.5/2.8 MB 498.1 kB/s eta 0:00:01\n",
      "   ------------------------------------ --- 2.6/2.8 MB 497.5 kB/s eta 0:00:01\n",
      "   ------------------------------------ --- 2.6/2.8 MB 497.0 kB/s eta 0:00:01\n",
      "   ------------------------------------- -- 2.6/2.8 MB 496.0 kB/s eta 0:00:01\n",
      "   ------------------------------------- -- 2.6/2.8 MB 494.5 kB/s eta 0:00:01\n",
      "   ------------------------------------- -- 2.6/2.8 MB 496.9 kB/s eta 0:00:01\n",
      "   ------------------------------------- -- 2.6/2.8 MB 496.9 kB/s eta 0:00:01\n",
      "   ------------------------------------- -- 2.6/2.8 MB 496.9 kB/s eta 0:00:01\n",
      "   ------------------------------------- -- 2.6/2.8 MB 496.9 kB/s eta 0:00:01\n",
      "   ------------------------------------- -- 2.6/2.8 MB 496.9 kB/s eta 0:00:01\n",
      "   ---------------------------------------  2.8/2.8 MB 499.9 kB/s eta 0:00:01\n",
      "   ---------------------------------------  2.8/2.8 MB 499.9 kB/s eta 0:00:01\n",
      "   ---------------------------------------  2.8/2.8 MB 499.9 kB/s eta 0:00:01\n",
      "   ---------------------------------------  2.8/2.8 MB 499.9 kB/s eta 0:00:01\n",
      "   ---------------------------------------- 2.8/2.8 MB 485.2 kB/s eta 0:00:00\n",
      "Installing collected packages: biopython\n",
      "Successfully installed biopython-1.84\n",
      "Note: you may need to restart the kernel to use updated packages.\n"
     ]
    }
   ],
   "source": [
    "pip install biopython\n"
   ]
  },
  {
   "cell_type": "code",
   "execution_count": 3,
   "id": "ed2b4cf4-a4d2-4951-a2ef-ac25ab980149",
   "metadata": {},
   "outputs": [],
   "source": [
    "import Bio\n",
    "from Bio.Seq import Seq\n",
    "from Bio.SeqUtils import gc_fraction"
   ]
  },
  {
   "cell_type": "markdown",
   "id": "2d1e6527-f84d-459b-8dd2-753a9254790d",
   "metadata": {},
   "source": [
    "## ------------------------------------------------------------------------------------------------------------"
   ]
  },
  {
   "cell_type": "markdown",
   "id": "b3293b72-501a-4810-9539-50ddac074b9c",
   "metadata": {},
   "source": [
    "#### Initializations and Providing Data Inputs"
   ]
  },
  {
   "cell_type": "code",
   "execution_count": 4,
   "id": "1f7c7178-a59d-4af0-a7ff-6bf1022d23a6",
   "metadata": {},
   "outputs": [],
   "source": [
    "#Providing DNA Sequences\n",
    "dna_sequence = \"AGTCAGTAGACTAGCTAGCTAGCTAGCTAGCTAGCTAGCTAGCTAGCTAGCTAGCTAGCTAGCTAGCTAGCTAGCTAGCTAGCTAGCTA\"\n",
    "\n",
    "#Creating object for Seq\n",
    "seq = Seq(dna_sequence)"
   ]
  },
  {
   "cell_type": "markdown",
   "id": "97cf6b3d-02d5-4bc8-8bcf-15637f422bd3",
   "metadata": {},
   "source": [
    "## ------------------------------------------------------------------------------------------------------------"
   ]
  },
  {
   "cell_type": "markdown",
   "id": "0dede0f5-b7e0-499d-95e8-808e2cf50692",
   "metadata": {},
   "source": [
    "#### Creating Functions"
   ]
  },
  {
   "cell_type": "code",
   "execution_count": 5,
   "id": "4b25359d-76a3-412b-8f65-2c5c00261843",
   "metadata": {},
   "outputs": [],
   "source": [
    "# Function to find motifs in the sequence\n",
    "def find_motifs(sequence, motif):\n",
    "    positions = [i for i in range(len(sequence) - len(motif) + 1) if sequence[i:i + len(motif)] == motif]\n",
    "    return positions\n",
    "\n",
    "# Function to identify coding regions \n",
    "def identify_coding_regions(sequence):\n",
    "    start_codon = \"ATG\"\n",
    "    stop_codons = [\"TAA\", \"TAG\", \"TGA\"]\n",
    "    coding_regions = []\n",
    "    i = 0\n",
    "\n",
    "    while i < len(sequence):\n",
    "        if sequence[i:i + 3] == start_codon:\n",
    "            start_index = i\n",
    "            i += 3\n",
    "            while i < len(sequence):\n",
    "                if sequence[i:i + 3] in stop_codons:\n",
    "                    stop_index = i + 3\n",
    "                    coding_regions.append((start_index, stop_index))\n",
    "                    break\n",
    "                i += 3\n",
    "        else:\n",
    "            i += 1\n",
    "\n",
    "    return coding_regions"
   ]
  },
  {
   "cell_type": "markdown",
   "id": "77fc6a21-40fb-4efe-ba38-81fb0df50ea1",
   "metadata": {},
   "source": [
    "## ------------------------------------------------------------------------------------------------------------"
   ]
  },
  {
   "cell_type": "markdown",
   "id": "d080fdcd-5893-449d-9a0c-c9fc5c944a18",
   "metadata": {},
   "source": [
    "#### Finding Motifs"
   ]
  },
  {
   "cell_type": "code",
   "execution_count": 6,
   "id": "9cf53024-cc0c-4acf-a51a-f53db103a1ad",
   "metadata": {},
   "outputs": [],
   "source": [
    "motif1 = \"AGCTAGCTA\"\n",
    "motif2 = \"CTAGCTAGC\"\n",
    "motif1_positions = find_motifs(seq, motif1)\n",
    "motif2_positions = find_motifs(seq, motif2)"
   ]
  },
  {
   "cell_type": "markdown",
   "id": "ef89cb1a-0ac5-4b3c-bb99-47e169628144",
   "metadata": {},
   "source": [
    "## ------------------------------------------------------------------------------------------------------------"
   ]
  },
  {
   "cell_type": "markdown",
   "id": "d5b92655-b029-4ff4-b308-d26e29d48895",
   "metadata": {},
   "source": [
    "#### GC Content and Coding Regions"
   ]
  },
  {
   "cell_type": "code",
   "execution_count": 7,
   "id": "8d35104d-9a47-4f3b-a7ea-afd7bc979ae0",
   "metadata": {},
   "outputs": [],
   "source": [
    "# Calculating GC content\n",
    "gc_content = gc_fraction(seq)\n",
    "\n",
    "# Identifying coding regions\n",
    "coding_regions = identify_coding_regions(seq)"
   ]
  },
  {
   "cell_type": "markdown",
   "id": "bbe83716-a80a-4832-ae0c-4dd047e8b4d5",
   "metadata": {},
   "source": [
    "## ------------------------------------------------------------------------------------------------------------"
   ]
  },
  {
   "cell_type": "markdown",
   "id": "d79b1e29-54fa-4ffa-ad81-97d5baa0b4e4",
   "metadata": {},
   "source": [
    "#### Generating a Report"
   ]
  },
  {
   "cell_type": "code",
   "execution_count": 8,
   "id": "54b496d3-edad-4b2f-a90b-714742eba853",
   "metadata": {},
   "outputs": [
    {
     "name": "stdout",
     "output_type": "stream",
     "text": [
      "Analysis report generated as 'DNA_SEQUENCE_ANALYSIS.txt'.\n"
     ]
    }
   ],
   "source": [
    "report = \"DNA Sequence Analysis Report\\n\\n\"\n",
    "report += f\"Provided DNA Sequence:\\n{seq}\\n\\n\"\n",
    "report += \"Analysis 1: Finding Motifs\\n\"\n",
    "report += f\"Motif 1 ({motif1}) found at positions: {motif1_positions}\\n\"\n",
    "report += f\"Motif 2 ({motif2}) found at positions: {motif2_positions}\\n\\n\"\n",
    "report += \"Analysis 2: Calculating GC Content\\n\"\n",
    "report += f\"GC Content: {gc_content:.2%}\\n\\n\"\n",
    "report += \"Analysis 3: Identifying Coding Regions\\n\"\n",
    "if len(coding_regions) > 0:\n",
    "    report += \"Coding regions found:\\n\"\n",
    "    for start, stop in coding_regions:\n",
    "        report += f\"Start: {start} Stop: {stop}\\n\"\n",
    "else:\n",
    "    report += \"No coding regions found in the sequence.\"\n",
    "\n",
    "\n",
    "\n",
    "\n",
    "with open(\"DNA_SEQUENCE_ANALYSIS.txt\", \"w\") as report_file:\n",
    "    report_file.write(report)\n",
    "\n",
    "\n",
    "\n",
    "print(\"Analysis report generated as 'DNA_SEQUENCE_ANALYSIS.txt'.\")"
   ]
  },
  {
   "cell_type": "markdown",
   "id": "4c6c7f4f-faff-45b1-88c6-3469280fe40e",
   "metadata": {},
   "source": [
    "## ------------------------------------------------------------------------------------------------------------"
   ]
  },
  {
   "cell_type": "code",
   "execution_count": null,
   "id": "aa293234-c0b3-446a-bce2-830199e4471e",
   "metadata": {},
   "outputs": [],
   "source": []
  }
 ],
 "metadata": {
  "kernelspec": {
   "display_name": "Python 3 (ipykernel)",
   "language": "python",
   "name": "python3"
  },
  "language_info": {
   "codemirror_mode": {
    "name": "ipython",
    "version": 3
   },
   "file_extension": ".py",
   "mimetype": "text/x-python",
   "name": "python",
   "nbconvert_exporter": "python",
   "pygments_lexer": "ipython3",
   "version": "3.11.7"
  }
 },
 "nbformat": 4,
 "nbformat_minor": 5
}
